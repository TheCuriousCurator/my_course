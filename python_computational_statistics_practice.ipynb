{
 "cells": [
  {
   "cell_type": "markdown",
   "metadata": {},
   "source": []
  },
  {
   "cell_type": "markdown",
   "metadata": {},
   "source": [
    "- In 1962, John Turkey proposed a new scientific discipline called data analysis that included statistical inference as just one component. \n",
    "- Many sources of data\n",
    "    - sensor measurment\n",
    "    - events \n",
    "    - text (sequence of words)\n",
    "    - images (collection of pixels with an arrangement)\n",
    "    - videos (sequence of images)\n",
    "    - IOT (streams of information)\n",
    "    - Clickstream (sequence of action by a user interacting with an app)\n",
    "- Types of structured data\n",
    "    - Numeric\n",
    "        - continuous (time duration or speed)\n",
    "        - discrete (count of occurance)\n",
    "    - Categorical\n",
    "        - fixed set of values or state names\n",
    "        -  (True False / Yes No / plasma LCD LED)\n",
    "        - binary\n",
    "        - ordinal\n",
    "            - Ordered category ( numerical rating 1-5) \n",
    "            - sklearn.preprocessing.OrdinalEncoder\n",
    "    - For the purposes of data analysis and predictive modeling, the data type is important to help determine the type of visual display, data analysis, or statistical model.\n",
    "    - Data typing in software acts as a signal to the software on how to process the data.\n"
   ]
  },
  {
   "cell_type": "markdown",
   "metadata": {},
   "source": [
    "- Data frame - Rectangular data (like a spreadsheet) is the basic data structure for statistical and machine learning models.\n",
    "- Feature -  A column within a table is commonly referred to as a feature. \n",
    "    - Synonyms - attribute, input, predictor, variable\n",
    "- Outcome - Many data science projects involve predicting an outcome—often a yes/no outcome. The features are sometimes used to predict the outcome in an experiment or a study.\n",
    "    - Synonyms - dependent variable, response, target, output\n",
    "- Records - A row within a table is commonly referred to as a record.\n",
    "    - Synonyms - case, example, instance, observation, pattern, sample"
   ]
  },
  {
   "cell_type": "code",
   "execution_count": 1,
   "metadata": {},
   "outputs": [],
   "source": [
    "import numpy as np\n",
    "import numpy.random as npr\n",
    "import scipy.special as scs\n",
    "import seaborn as sns\n",
    "import math\n",
    "import pandas as pd\n",
    "import matplotlib.pyplot as plt\n"
   ]
  }
 ],
 "metadata": {
  "kernelspec": {
   "display_name": "Python 3",
   "language": "python",
   "name": "python3"
  },
  "language_info": {
   "codemirror_mode": {
    "name": "ipython",
    "version": 3
   },
   "file_extension": ".py",
   "mimetype": "text/x-python",
   "name": "python",
   "nbconvert_exporter": "python",
   "pygments_lexer": "ipython3",
   "version": "3.10.4"
  },
  "orig_nbformat": 4
 },
 "nbformat": 4,
 "nbformat_minor": 2
}
