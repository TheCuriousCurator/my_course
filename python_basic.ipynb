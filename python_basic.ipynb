{
 "cells": [
  {
   "cell_type": "markdown",
   "metadata": {},
   "source": [
    "## primitive operators / Arithmetic"
   ]
  },
  {
   "cell_type": "code",
   "execution_count": 37,
   "metadata": {},
   "outputs": [
    {
     "data": {
      "text/plain": [
       "5"
      ]
     },
     "execution_count": 37,
     "metadata": {},
     "output_type": "execute_result"
    }
   ],
   "source": [
    "2 + 3"
   ]
  },
  {
   "cell_type": "code",
   "execution_count": 38,
   "metadata": {},
   "outputs": [
    {
     "data": {
      "text/plain": [
       "-2"
      ]
     },
     "execution_count": 38,
     "metadata": {},
     "output_type": "execute_result"
    }
   ],
   "source": [
    "2 - 4"
   ]
  },
  {
   "cell_type": "code",
   "execution_count": 39,
   "metadata": {},
   "outputs": [
    {
     "data": {
      "text/plain": [
       "6"
      ]
     },
     "execution_count": 39,
     "metadata": {},
     "output_type": "execute_result"
    }
   ],
   "source": [
    "2 * 3"
   ]
  },
  {
   "cell_type": "code",
   "execution_count": 40,
   "metadata": {},
   "outputs": [
    {
     "data": {
      "text/plain": [
       "3.3333333333333335"
      ]
     },
     "execution_count": 40,
     "metadata": {},
     "output_type": "execute_result"
    }
   ],
   "source": [
    "10 / 3"
   ]
  },
  {
   "cell_type": "code",
   "execution_count": 42,
   "metadata": {},
   "outputs": [
    {
     "data": {
      "text/plain": [
       "3"
      ]
     },
     "execution_count": 42,
     "metadata": {},
     "output_type": "execute_result"
    }
   ],
   "source": [
    "10 // 3 # floor division / integer division"
   ]
  },
  {
   "cell_type": "code",
   "execution_count": 44,
   "metadata": {},
   "outputs": [
    {
     "data": {
      "text/plain": [
       "8"
      ]
     },
     "execution_count": 44,
     "metadata": {},
     "output_type": "execute_result"
    }
   ],
   "source": [
    "2**3 # 2^3 = 8 "
   ]
  },
  {
   "cell_type": "code",
   "execution_count": 46,
   "metadata": {},
   "outputs": [
    {
     "data": {
      "text/plain": [
       "3"
      ]
     },
     "execution_count": 46,
     "metadata": {},
     "output_type": "execute_result"
    }
   ],
   "source": [
    "# modulus\n",
    "15 % 4"
   ]
  },
  {
   "cell_type": "code",
   "execution_count": 2,
   "metadata": {},
   "outputs": [
    {
     "data": {
      "text/plain": [
       "'Hello World'"
      ]
     },
     "execution_count": 2,
     "metadata": {},
     "output_type": "execute_result"
    }
   ],
   "source": [
    "\"Hello World\""
   ]
  },
  {
   "cell_type": "markdown",
   "metadata": {},
   "source": [
    "## Data types primitives"
   ]
  },
  {
   "cell_type": "code",
   "execution_count": 78,
   "metadata": {},
   "outputs": [
    {
     "data": {
      "text/plain": [
       "True"
      ]
     },
     "execution_count": 78,
     "metadata": {},
     "output_type": "execute_result"
    }
   ],
   "source": [
    "type(47) # int\n",
    "type(1/3) #float\n",
    "type(True) # bool\n",
    "type(\"hello\") # str\n",
    "type(None) # NoneType\n",
    "type ( float (\"Inf\") ) # float\n",
    "type ( float (\"NaN\") ) # float\n",
    "isinstance(47, int) # True\n"
   ]
  },
  {
   "cell_type": "code",
   "execution_count": 5,
   "metadata": {},
   "outputs": [
    {
     "name": "stdout",
     "output_type": "stream",
     "text": [
      "Hello World!! 10 False 1 1 2 3 4\n",
      "10 Hello World!! False 1 1 2 3 4\n",
      "[2, 4, 6, 8]\n"
     ]
    }
   ],
   "source": [
    "a = \"Hello World!!\"\n",
    "b = 10\n",
    "c = 2 > 3\n",
    "d = e = 1\n",
    "f, g, h = 2, 3, 4\n",
    "print(a, b, c, d, e, f, g, h)\n",
    "(a, b) = (b, a)\n",
    "print(a, b, c, d, e, f, g, h)\n",
    "l = [2, 4, 6, 8]\n",
    "print(l)"
   ]
  },
  {
   "cell_type": "code",
   "execution_count": 4,
   "metadata": {},
   "outputs": [
    {
     "data": {
      "text/plain": [
       "2"
      ]
     },
     "execution_count": 4,
     "metadata": {},
     "output_type": "execute_result"
    }
   ],
   "source": [
    "import math\n",
    "round(111.123) #111\n",
    "round(111.123, 1) # 111.1\n",
    "round(111.123, -1) # 110.0\n",
    "math.floor(1.9) #1\n",
    "math.ceil(1.3) #2\n"
   ]
  },
  {
   "cell_type": "markdown",
   "metadata": {},
   "source": [
    "## List (basic) - mutable ordered sequence"
   ]
  },
  {
   "cell_type": "code",
   "execution_count": 51,
   "metadata": {},
   "outputs": [
    {
     "name": "stdout",
     "output_type": "stream",
     "text": [
      "[2, 4, 6, 8, 10, 12] [2, 4, 6, 8, 10, 12]\n",
      "4531664128 4531664128\n",
      "4531664128 4532028032\n",
      "(2, 4, 6, 8, 10)\n"
     ]
    }
   ],
   "source": [
    "# ordered collection of objects\n",
    "l = [2, 4, 6, 8 ,10]\n",
    "#list is by reference and mutable\n",
    "m = l\n",
    "m.append(12)\n",
    "print(l, m)\n",
    "print(id(l), id(m)) # address\n",
    "\n",
    "m = l[:] # copy\n",
    "print(id(l), id(m)) # address\n",
    "\n",
    "# tuple is immutable\n",
    "l = (2, 4, 6, 8 ,10)\n",
    "# m.append(12)\n",
    "# tuple is immutable\n",
    "print(l)"
   ]
  },
  {
   "cell_type": "code",
   "execution_count": 24,
   "metadata": {},
   "outputs": [
    {
     "name": "stdout",
     "output_type": "stream",
     "text": [
      "[]\n",
      "['hello']\n",
      "['hello', 'world', 'hola', 'earth']\n",
      "[1, 2, 3, 4, 5, 6]\n",
      "6\n"
     ]
    }
   ],
   "source": [
    "l = []\n",
    "l = list()\n",
    "print(l)\n",
    "l.append(\"hello\")\n",
    "print(l)\n",
    "l.extend([\"world\", \"hola\", \"earth\"])\n",
    "print(l)\n",
    "m = [1,2,3] + [4,5,6]\n",
    "print(m)\n",
    "print(len(m))\n"
   ]
  },
  {
   "cell_type": "code",
   "execution_count": 40,
   "metadata": {},
   "outputs": [
    {
     "name": "stdout",
     "output_type": "stream",
     "text": [
      "[6, 5, 4, 3, 2, 1]\n",
      "[1, 2, 3, 4, 5, 6]\n",
      "21\n",
      "1\n",
      "6\n"
     ]
    }
   ],
   "source": [
    "l = [3,4,5,1,2,6]\n",
    "l.sort(reverse=True)\n",
    "print(l)\n",
    "l.reverse()\n",
    "print(l)\n",
    "print(sum(l))\n",
    "print(min(l))\n",
    "print(max(l))\n",
    "\n"
   ]
  },
  {
   "cell_type": "code",
   "execution_count": 61,
   "metadata": {},
   "outputs": [
    {
     "name": "stdout",
     "output_type": "stream",
     "text": [
      "[1, 2, 3, 4, 6]\n",
      "2\n",
      "6\n",
      "[3, 4]\n",
      "[1, 2, 3, 4]\n",
      "[3, 4, 6]\n",
      "[2, 3]\n",
      "[1, 3, 6]\n",
      "[6, 4, 3, 2, 1]\n",
      "4532708032 4533138880\n"
     ]
    }
   ],
   "source": [
    "print(l)\n",
    "print(l[1])\n",
    "print(l[-1])\n",
    "print(l[2:4])\n",
    "print(l[:4])\n",
    "print(l[2:])\n",
    "print(l[-4: -2])\n",
    "print(l[::2])\n",
    "print( l[ -1:-len(l)-1:-1 ] )\n",
    "\n",
    "l_new = l[:] # copy\n",
    "# l_new = l.copy() # shallow copy\n",
    "# import copy\n",
    "# l_new = copy.deepcopy(l) # deep copy / use when we have nested structures\n",
    "\n",
    "print(id(l), id(l_new)) # address\n"
   ]
  },
  {
   "cell_type": "code",
   "execution_count": 57,
   "metadata": {},
   "outputs": [
    {
     "name": "stdout",
     "output_type": "stream",
     "text": [
      "[1, 2, 3, 4, 5, 6, 'hello']\n",
      "[1, 2, 3, 4, 6, 'hello']\n",
      "[1, 2, 3, 4, 6] hello\n"
     ]
    }
   ],
   "source": [
    "l = [1,2,3,4,5,6]\n",
    "l.append(\"hello\")\n",
    "print(l)\n",
    "del(l[4])\n",
    "print(l)\n",
    "i = l.pop()\n",
    "print(l, i)"
   ]
  },
  {
   "cell_type": "code",
   "execution_count": 26,
   "metadata": {},
   "outputs": [
    {
     "name": "stdout",
     "output_type": "stream",
     "text": [
      "1\n",
      "2\n",
      "3\n",
      "4\n",
      "5\n",
      "6\n"
     ]
    }
   ],
   "source": [
    "for i in m:\n",
    "    print(i)"
   ]
  },
  {
   "cell_type": "code",
   "execution_count": 31,
   "metadata": {},
   "outputs": [
    {
     "name": "stdout",
     "output_type": "stream",
     "text": [
      "1\n",
      "2\n",
      "3\n",
      "4\n",
      "5\n",
      "6\n"
     ]
    }
   ],
   "source": [
    "iterator_m = iter(m)\n",
    "i = next(iterator_m)\n",
    "while True:\n",
    "    print(i)\n",
    "    try:\n",
    "        i = next(iterator_m)\n",
    "    except:\n",
    "        break\n"
   ]
  },
  {
   "cell_type": "markdown",
   "metadata": {},
   "source": [
    "## Tuple (basic) immutable ordered sequence"
   ]
  },
  {
   "cell_type": "code",
   "execution_count": 68,
   "metadata": {},
   "outputs": [
    {
     "name": "stdout",
     "output_type": "stream",
     "text": [
      "[1, 2, 3, 4, 5, 6]\n",
      "('tuple item', [2, 4, 6]) ('tuple item', [2, 4, 6])\n",
      "('tuple item', [2, 4, 6, 'hello']) ('tuple item', [2, 4, 6, 'hello'])\n"
     ]
    }
   ],
   "source": [
    "my_tuple = (2, 4, 6, 8 ,10)\n",
    "my_empty_tuple = tuple()\n",
    "my_tuple_from_list = tuple([2, 4, 6, 8])\n",
    "\n",
    "# same indexing syntax\n",
    "# my_tuple.append(2)\n",
    "# del(my_tuple[2])\n",
    "t = (3,2,1,4,5,6)\n",
    "print(sorted(t)) # returns a list containing the results\n",
    "\n",
    "# tuple is immutable but list reference can still be edited\n",
    "l = [2, 4, 6]\n",
    "t = (\"tuple item\", l)\n",
    "\n",
    "t_copy = t[:] # copy.deepcopy(t) doesnt have this issue\n",
    "print(t, t_copy)\n",
    "l.append(\"hello\")\n",
    "print(t, t_copy)\n"
   ]
  },
  {
   "cell_type": "markdown",
   "metadata": {},
   "source": [
    "## Strings"
   ]
  },
  {
   "cell_type": "code",
   "execution_count": 75,
   "metadata": {},
   "outputs": [
    {
     "name": "stdout",
     "output_type": "stream",
     "text": [
      "Hello World!!\n",
      "My name is Devendra, I live in India\n",
      "My name is Devendra, I live in India\n",
      "My name is Devendra. I live in India\n",
      "Hello Dev!!\n",
      "My notebook costs 211.13\n"
     ]
    }
   ],
   "source": [
    "print(\"Hello World!!\")\n",
    "\n",
    "print(\"My name is {0}, I live in {1}\".format(\"Devendra\",\"India\"))\n",
    "print(\"My name is {}, I live in {}\".format(\"Devendra\",\"India\"))\n",
    "\n",
    "print(\"My name is {name}. I live in {country}\".format(name=\"Devendra\", country=\"India\"))\n",
    "\n",
    "name = \"Dev\"\n",
    "print(f\"Hello {name}!!\") #f-string\n",
    "print(\"My notebook costs {price:.2f}\".format(price=211.126))\n"
   ]
  },
  {
   "cell_type": "code",
   "execution_count": 71,
   "metadata": {},
   "outputs": [
    {
     "name": "stdout",
     "output_type": "stream",
     "text": [
      "True\n",
      "False\n",
      "am Devendra.\n",
      "I live in India.\n",
      "I am Devendra.\n",
      "I am Devendra.\n",
      "5\n",
      "-1\n"
     ]
    }
   ],
   "source": [
    "txt = \"I am Devendra. I live in India.\"\n",
    "\n",
    "# indexing same as list\n",
    "print(\"India\" in txt)\n",
    "print(\"India\" not in txt)\n",
    "print(txt[2:14])\n",
    "print(txt[15:])\n",
    "print(txt[:14])\n",
    "print(txt[-31: -17])\n",
    "print(txt.find(\"Dev\")) # index of first character\n",
    "print(txt.find(\"dev\"))\n",
    "\n",
    "\n",
    "\n"
   ]
  },
  {
   "cell_type": "code",
   "execution_count": 73,
   "metadata": {},
   "outputs": [
    {
     "name": "stdout",
     "output_type": "stream",
     "text": [
      "  I AM DEVENDRA. I LIVE IN INDIA.  \n",
      "  i am devendra. i live in india.  \n",
      "['I', 'am', 'Devendra.', 'I', 'live', 'in', 'India.']\n",
      "['  I am Devendra', ' I live in India', '  ']\n",
      "  I am Ram. I live in India.  \n",
      "35\n",
      "I am Devendra. I live in India.\n",
      "I am Devendra. I live in India\n"
     ]
    }
   ],
   "source": [
    "print(txt.upper())\n",
    "print(txt.lower())\n",
    "\n",
    "print(txt.split())\n",
    "print(txt.split(\".\"))\n",
    "# txt.splitlines()\n",
    "print(txt.replace(\"Devendra\", \"Ram\"))\n",
    "print(len(txt))\n",
    "\n",
    "txt = \"  I am Devendra. I live in India.  \"\n",
    "print(txt.strip())\n",
    "print(txt.strip(\". \")) # input all characters used to strip, default is whitespace\n"
   ]
  },
  {
   "cell_type": "code",
   "execution_count": 74,
   "metadata": {},
   "outputs": [
    {
     "name": "stdout",
     "output_type": "stream",
     "text": [
      "HelloWorld\n",
      "Hello World\n",
      "Hello World!\n"
     ]
    }
   ],
   "source": [
    "s1 = \"Hello\"\n",
    "s2 = \"World\"\n",
    "print(s1 + s2)\n",
    "print(s1 + \" \" + s2)\n",
    "print(\" \".join([\"Hello\", \"World!\"]))"
   ]
  },
  {
   "cell_type": "markdown",
   "metadata": {},
   "source": [
    "## Dictionary (O(1) lookup & named indexing called keys) \n",
    "- keys should be immutable\n",
    "- dictionary is mutable\n",
    "- values can anything"
   ]
  },
  {
   "cell_type": "code",
   "execution_count": 78,
   "metadata": {},
   "outputs": [
    {
     "name": "stdout",
     "output_type": "stream",
     "text": [
      "{}\n",
      "{'name': 'Devendra', 'sex': 'Male'}\n"
     ]
    }
   ],
   "source": [
    "d = dict()\n",
    "print(d)\n",
    "d[\"name\"] = \"Devendra\"\n",
    "d[\"sex\"] = \"Male\"\n",
    "print(d)"
   ]
  },
  {
   "cell_type": "code",
   "execution_count": 87,
   "metadata": {},
   "outputs": [
    {
     "name": "stdout",
     "output_type": "stream",
     "text": [
      "{'name': 'Devendra', 'sex': 'Male'}\n",
      "{'name': 'Devendra', 'sex': 'Male', 'last_name': 'Sahu'}\n",
      "{'name': 'Devendra', 'sex': 'Male'}\n",
      "2\n",
      "False\n"
     ]
    }
   ],
   "source": [
    "d = { \"name\": \"Devendra\", \"sex\": \"Male\"}\n",
    "print(d)\n",
    "d[\"last_name\"] = \"Sahu\"\n",
    "print(d)\n",
    "del d[\"last_name\"]\n",
    "print(d)\n",
    "print(len(d))\n",
    "print(\"age\" in d)"
   ]
  },
  {
   "cell_type": "code",
   "execution_count": 86,
   "metadata": {},
   "outputs": [
    {
     "name": "stdout",
     "output_type": "stream",
     "text": [
      "name Devendra\n",
      "sex Male\n"
     ]
    }
   ],
   "source": [
    "for key in d:\n",
    "    print(key, d[key])\n",
    "    "
   ]
  },
  {
   "cell_type": "code",
   "execution_count": 89,
   "metadata": {},
   "outputs": [
    {
     "name": "stdout",
     "output_type": "stream",
     "text": [
      "dict_keys(['name', 'sex'])\n",
      "dict_values(['Devendra', 'Male'])\n",
      "dict_items([('name', 'Devendra'), ('sex', 'Male')])\n"
     ]
    }
   ],
   "source": [
    "print(d.keys())\n",
    "print(d.values())\n",
    "print(d.items())"
   ]
  },
  {
   "cell_type": "markdown",
   "metadata": {},
   "source": [
    "## If then Else"
   ]
  },
  {
   "cell_type": "code",
   "execution_count": 7,
   "metadata": {},
   "outputs": [
    {
     "name": "stdout",
     "output_type": "stream",
     "text": [
      "x =  2\n",
      "x = 2 is even number\n"
     ]
    }
   ],
   "source": [
    "x = input(\"enter an integer\")\n",
    "x = int(x)\n",
    "print (\"x = \", x)\n",
    "if x % 2 == 0:\n",
    "    print(f\"x = {x} is even number\")\n",
    "else:\n",
    "    print(f\"x = {x} is odd number\")\n"
   ]
  },
  {
   "cell_type": "code",
   "execution_count": 12,
   "metadata": {},
   "outputs": [
    {
     "name": "stdout",
     "output_type": "stream",
     "text": [
      "x =  4\n",
      "x = 4 is Positive Number\n"
     ]
    }
   ],
   "source": [
    "x = input(\"enter an integer\")\n",
    "x = int(x)\n",
    "print (\"x = \", x)\n",
    "if x < 0:\n",
    "    print(f\"x = {x} is Negative Number\")\n",
    "elif x == 0:\n",
    "    print(f\"x = {x} is Zero\")\n",
    "else:\n",
    "    print(f\"x = {x} is Positive Number\")\n",
    "\n"
   ]
  },
  {
   "cell_type": "markdown",
   "metadata": {},
   "source": [
    "## Iteration (looping)"
   ]
  },
  {
   "cell_type": "code",
   "execution_count": 17,
   "metadata": {},
   "outputs": [
    {
     "name": "stdout",
     "output_type": "stream",
     "text": [
      "0 Hello\n",
      "1 Hello\n",
      "2 Hello\n",
      "3 Hello\n",
      "4 Hello\n"
     ]
    }
   ],
   "source": [
    "n=5\n",
    "for i in range(n):\n",
    "    print(i, \"Hello\")"
   ]
  },
  {
   "cell_type": "code",
   "execution_count": 14,
   "metadata": {},
   "outputs": [
    {
     "name": "stdout",
     "output_type": "stream",
     "text": [
      "2\n",
      "4\n",
      "6\n",
      "8\n",
      "10\n",
      "12\n",
      "14\n"
     ]
    }
   ],
   "source": [
    "l = [2,4,6,8,10,12,14]\n",
    "for i in l:\n",
    "    print(i)"
   ]
  },
  {
   "cell_type": "code",
   "execution_count": 8,
   "metadata": {},
   "outputs": [
    {
     "name": "stdout",
     "output_type": "stream",
     "text": [
      "0 Hello\n",
      "1 World\n",
      "2 This\n",
      "3 is\n",
      "4 a\n",
      "5 Good\n",
      "6 day\n"
     ]
    }
   ],
   "source": [
    "l = [\"Hello\", \"World\", \"This\", \"is\", \"a\", \"Good\", \"day\"]\n",
    "for idx, i in enumerate(l):\n",
    "    print(idx, i)\n"
   ]
  },
  {
   "cell_type": "code",
   "execution_count": 16,
   "metadata": {},
   "outputs": [
    {
     "name": "stdout",
     "output_type": "stream",
     "text": [
      "10\n",
      "12\n",
      "14\n"
     ]
    }
   ],
   "source": [
    "l = [2,4,6,8,10,12,14]\n",
    "for i in l:\n",
    "    if i>=10:\n",
    "        print(i)"
   ]
  },
  {
   "cell_type": "code",
   "execution_count": 18,
   "metadata": {},
   "outputs": [
    {
     "name": "stdout",
     "output_type": "stream",
     "text": [
      "0 Hello\n",
      "1 Hello\n",
      "2 Hello\n",
      "3 Hello\n",
      "4 Hello\n"
     ]
    }
   ],
   "source": [
    "n=5 \n",
    "\n",
    "i=0\n",
    "while(i<n):\n",
    "    print(i, \"Hello\")\n",
    "    i = i + 1"
   ]
  },
  {
   "cell_type": "markdown",
   "metadata": {},
   "source": [
    "## Functions"
   ]
  },
  {
   "cell_type": "code",
   "execution_count": 19,
   "metadata": {},
   "outputs": [],
   "source": [
    "#sum of all numbers in a list \n",
    "def sum_list(l):\n",
    "    s = 0\n",
    "    for item in l:\n",
    "        s+=item\n",
    "    return s\n"
   ]
  },
  {
   "cell_type": "code",
   "execution_count": 20,
   "metadata": {},
   "outputs": [
    {
     "data": {
      "text/plain": [
       "6"
      ]
     },
     "execution_count": 20,
     "metadata": {},
     "output_type": "execute_result"
    }
   ],
   "source": [
    "sum_list([1,2,3])"
   ]
  },
  {
   "cell_type": "code",
   "execution_count": 21,
   "metadata": {},
   "outputs": [
    {
     "data": {
      "text/plain": [
       "7"
      ]
     },
     "execution_count": 21,
     "metadata": {},
     "output_type": "execute_result"
    }
   ],
   "source": [
    "sum_list([-1, 3, 5])"
   ]
  },
  {
   "cell_type": "markdown",
   "metadata": {},
   "source": [
    "- fibonacci sequence\n",
    "- return if input is even or odd\n",
    "- string is palindrome or not"
   ]
  },
  {
   "cell_type": "markdown",
   "metadata": {},
   "source": [
    "Given an array of integers nums and an integer target, return indices of the two numbers such that they add up to target.\n",
    "You may assume that each input would have exactly one solution, and you may not use the same element twice.\n",
    "You can return the answer in any order.\n",
    "\n",
    "\n",
    "Input: nums = [2,7,11,15], target = 9\n",
    "Output: [0,1]\n",
    "Explanation: Because nums[0] + nums[1] == 9, we return [0, 1].\n",
    "\n",
    "Input: nums = [3,2,4], target = 6\n",
    "Output: [1,2]\n",
    "\n",
    "Input: nums = [3,3], target = 6\n",
    "Output: [0,1]\n",
    "\n"
   ]
  },
  {
   "cell_type": "code",
   "execution_count": 6,
   "metadata": {},
   "outputs": [
    {
     "name": "stdout",
     "output_type": "stream",
     "text": [
      "[1, 0]\n",
      "[2, 1]\n",
      "[1, 0]\n"
     ]
    }
   ],
   "source": [
    "from typing import List\n",
    "def twoSum(nums: List[int], target: int) -> List[int]:\n",
    "    lookup = dict()\n",
    "    for idx, i in enumerate(nums):\n",
    "        if ((target - i) in lookup.keys()) and (lookup[target - i]!=idx):\n",
    "            return [idx, lookup[target - i]]\n",
    "        lookup[i] = idx\n",
    "\n",
    "\n",
    "print(twoSum([2,7,11,15], 9))\n",
    "print(twoSum([3,2,4], 6))\n",
    "print(twoSum([3,3], 6))\n",
    "\n",
    "        \n",
    "            "
   ]
  },
  {
   "cell_type": "code",
   "execution_count": null,
   "metadata": {},
   "outputs": [],
   "source": []
  }
 ],
 "metadata": {
  "kernelspec": {
   "display_name": "Python 3",
   "language": "python",
   "name": "python3"
  },
  "language_info": {
   "codemirror_mode": {
    "name": "ipython",
    "version": 3
   },
   "file_extension": ".py",
   "mimetype": "text/x-python",
   "name": "python",
   "nbconvert_exporter": "python",
   "pygments_lexer": "ipython3",
   "version": "3.10.4"
  },
  "orig_nbformat": 4
 },
 "nbformat": 4,
 "nbformat_minor": 2
}
