{
 "cells": [
  {
   "cell_type": "markdown",
   "metadata": {},
   "source": [
    "## Arithmetic"
   ]
  },
  {
   "cell_type": "code",
   "execution_count": 37,
   "metadata": {},
   "outputs": [
    {
     "data": {
      "text/plain": [
       "5"
      ]
     },
     "execution_count": 37,
     "metadata": {},
     "output_type": "execute_result"
    }
   ],
   "source": [
    "2 + 3"
   ]
  },
  {
   "cell_type": "code",
   "execution_count": 38,
   "metadata": {},
   "outputs": [
    {
     "data": {
      "text/plain": [
       "-2"
      ]
     },
     "execution_count": 38,
     "metadata": {},
     "output_type": "execute_result"
    }
   ],
   "source": [
    "2 - 4"
   ]
  },
  {
   "cell_type": "code",
   "execution_count": 39,
   "metadata": {},
   "outputs": [
    {
     "data": {
      "text/plain": [
       "6"
      ]
     },
     "execution_count": 39,
     "metadata": {},
     "output_type": "execute_result"
    }
   ],
   "source": [
    "2 * 3"
   ]
  },
  {
   "cell_type": "code",
   "execution_count": 40,
   "metadata": {},
   "outputs": [
    {
     "data": {
      "text/plain": [
       "3.3333333333333335"
      ]
     },
     "execution_count": 40,
     "metadata": {},
     "output_type": "execute_result"
    }
   ],
   "source": [
    "10 / 3"
   ]
  },
  {
   "cell_type": "code",
   "execution_count": 42,
   "metadata": {},
   "outputs": [
    {
     "data": {
      "text/plain": [
       "3"
      ]
     },
     "execution_count": 42,
     "metadata": {},
     "output_type": "execute_result"
    }
   ],
   "source": [
    "10 // 3 # floor division / integer division"
   ]
  },
  {
   "cell_type": "code",
   "execution_count": 44,
   "metadata": {},
   "outputs": [
    {
     "data": {
      "text/plain": [
       "8"
      ]
     },
     "execution_count": 44,
     "metadata": {},
     "output_type": "execute_result"
    }
   ],
   "source": [
    "2**3 # 2^3 = 8 "
   ]
  },
  {
   "cell_type": "code",
   "execution_count": 46,
   "metadata": {},
   "outputs": [
    {
     "data": {
      "text/plain": [
       "3"
      ]
     },
     "execution_count": 46,
     "metadata": {},
     "output_type": "execute_result"
    }
   ],
   "source": [
    "# modulus\n",
    "15 % 4"
   ]
  },
  {
   "cell_type": "code",
   "execution_count": 2,
   "metadata": {},
   "outputs": [
    {
     "data": {
      "text/plain": [
       "'Hello World'"
      ]
     },
     "execution_count": 2,
     "metadata": {},
     "output_type": "execute_result"
    }
   ],
   "source": [
    "\"Hello World\""
   ]
  },
  {
   "cell_type": "markdown",
   "metadata": {},
   "source": [
    "## Data types primitives"
   ]
  },
  {
   "cell_type": "code",
   "execution_count": 78,
   "metadata": {},
   "outputs": [
    {
     "data": {
      "text/plain": [
       "True"
      ]
     },
     "execution_count": 78,
     "metadata": {},
     "output_type": "execute_result"
    }
   ],
   "source": [
    "type(47) # int\n",
    "type(1/3) #float\n",
    "type(True) # bool\n",
    "type(\"hello\") # str\n",
    "type(None) # NoneType\n",
    "type ( float (\"Inf\") ) # float\n",
    "type ( float (\"NaN\") ) # float\n",
    "isinstance(47, int) # True\n"
   ]
  },
  {
   "cell_type": "code",
   "execution_count": 5,
   "metadata": {},
   "outputs": [
    {
     "name": "stdout",
     "output_type": "stream",
     "text": [
      "Hello World!! 10 False 1 1 2 3 4\n",
      "10 Hello World!! False 1 1 2 3 4\n",
      "[2, 4, 6, 8]\n"
     ]
    }
   ],
   "source": [
    "a = \"Hello World!!\"\n",
    "b = 10\n",
    "c = 2 > 3\n",
    "d = e = 1\n",
    "f, g, h = 2, 3, 4\n",
    "print(a, b, c, d, e, f, g, h)\n",
    "(a, b) = (b, a)\n",
    "print(a, b, c, d, e, f, g, h)\n",
    "l = [2, 4, 6, 8]\n",
    "print(l)"
   ]
  },
  {
   "cell_type": "code",
   "execution_count": 4,
   "metadata": {},
   "outputs": [
    {
     "data": {
      "text/plain": [
       "2"
      ]
     },
     "execution_count": 4,
     "metadata": {},
     "output_type": "execute_result"
    }
   ],
   "source": [
    "import math\n",
    "round(111.123) #111\n",
    "round(111.123, 1) # 111.1\n",
    "round(111.123, -1) # 110.0\n",
    "math.floor(1.9) #1\n",
    "math.ceil(1.3) #2\n"
   ]
  },
  {
   "cell_type": "markdown",
   "metadata": {},
   "source": [
    "## List (basic) - mutable ordered sequence"
   ]
  },
  {
   "cell_type": "code",
   "execution_count": 51,
   "metadata": {},
   "outputs": [
    {
     "name": "stdout",
     "output_type": "stream",
     "text": [
      "[2, 4, 6, 8, 10, 12] [2, 4, 6, 8, 10, 12]\n",
      "4531664128 4531664128\n",
      "4531664128 4532028032\n",
      "(2, 4, 6, 8, 10)\n"
     ]
    }
   ],
   "source": [
    "# ordered collection of objects\n",
    "l = [2, 4, 6, 8 ,10]\n",
    "#list is by reference and mutable\n",
    "m = l\n",
    "m.append(12)\n",
    "print(l, m)\n",
    "print(id(l), id(m)) # address\n",
    "\n",
    "m = l[:] # copy\n",
    "print(id(l), id(m)) # address\n",
    "\n",
    "# tuple is immutable\n",
    "l = (2, 4, 6, 8 ,10)\n",
    "# m.append(12)\n",
    "# tuple is immutable\n",
    "print(l)"
   ]
  },
  {
   "cell_type": "code",
   "execution_count": 24,
   "metadata": {},
   "outputs": [
    {
     "name": "stdout",
     "output_type": "stream",
     "text": [
      "[]\n",
      "['hello']\n",
      "['hello', 'world', 'hola', 'earth']\n",
      "[1, 2, 3, 4, 5, 6]\n",
      "6\n"
     ]
    }
   ],
   "source": [
    "l = []\n",
    "l = list()\n",
    "print(l)\n",
    "l.append(\"hello\")\n",
    "print(l)\n",
    "l.extend([\"world\", \"hola\", \"earth\"])\n",
    "print(l)\n",
    "m = [1,2,3] + [4,5,6]\n",
    "print(m)\n",
    "print(len(m))\n"
   ]
  },
  {
   "cell_type": "code",
   "execution_count": 40,
   "metadata": {},
   "outputs": [
    {
     "name": "stdout",
     "output_type": "stream",
     "text": [
      "[6, 5, 4, 3, 2, 1]\n",
      "[1, 2, 3, 4, 5, 6]\n",
      "21\n",
      "1\n",
      "6\n"
     ]
    }
   ],
   "source": [
    "l = [3,4,5,1,2,6]\n",
    "l.sort(reverse=True)\n",
    "print(l)\n",
    "l.reverse()\n",
    "print(l)\n",
    "print(sum(l))\n",
    "print(min(l))\n",
    "print(max(l))\n",
    "\n"
   ]
  },
  {
   "cell_type": "code",
   "execution_count": 61,
   "metadata": {},
   "outputs": [
    {
     "name": "stdout",
     "output_type": "stream",
     "text": [
      "[1, 2, 3, 4, 6]\n",
      "2\n",
      "6\n",
      "[3, 4]\n",
      "[1, 2, 3, 4]\n",
      "[3, 4, 6]\n",
      "[2, 3]\n",
      "[1, 3, 6]\n",
      "[6, 4, 3, 2, 1]\n",
      "4532708032 4533138880\n"
     ]
    }
   ],
   "source": [
    "print(l)\n",
    "print(l[1])\n",
    "print(l[-1])\n",
    "print(l[2:4])\n",
    "print(l[:4])\n",
    "print(l[2:])\n",
    "print(l[-4: -2])\n",
    "print(l[::2])\n",
    "print( l[ -1:-len(l)-1:-1 ] )\n",
    "\n",
    "l_new = l[:] # copy\n",
    "# l_new = l.copy() # shallow copy\n",
    "# import copy\n",
    "# l_new = copy.deepcopy(l) # deep copy / use when we have nested structures\n",
    "\n",
    "print(id(l), id(l_new)) # address\n"
   ]
  },
  {
   "cell_type": "code",
   "execution_count": 57,
   "metadata": {},
   "outputs": [
    {
     "name": "stdout",
     "output_type": "stream",
     "text": [
      "[1, 2, 3, 4, 5, 6, 'hello']\n",
      "[1, 2, 3, 4, 6, 'hello']\n",
      "[1, 2, 3, 4, 6] hello\n"
     ]
    }
   ],
   "source": [
    "l = [1,2,3,4,5,6]\n",
    "l.append(\"hello\")\n",
    "print(l)\n",
    "del(l[4])\n",
    "print(l)\n",
    "i = l.pop()\n",
    "print(l, i)"
   ]
  },
  {
   "cell_type": "code",
   "execution_count": 26,
   "metadata": {},
   "outputs": [
    {
     "name": "stdout",
     "output_type": "stream",
     "text": [
      "1\n",
      "2\n",
      "3\n",
      "4\n",
      "5\n",
      "6\n"
     ]
    }
   ],
   "source": [
    "for i in m:\n",
    "    print(i)"
   ]
  },
  {
   "cell_type": "code",
   "execution_count": 31,
   "metadata": {},
   "outputs": [
    {
     "name": "stdout",
     "output_type": "stream",
     "text": [
      "1\n",
      "2\n",
      "3\n",
      "4\n",
      "5\n",
      "6\n"
     ]
    }
   ],
   "source": [
    "iterator_m = iter(m)\n",
    "i = next(iterator_m)\n",
    "while True:\n",
    "    print(i)\n",
    "    try:\n",
    "        i = next(iterator_m)\n",
    "    except:\n",
    "        break\n"
   ]
  },
  {
   "cell_type": "markdown",
   "metadata": {},
   "source": [
    "## Tuple (basic) immutable ordered sequence"
   ]
  },
  {
   "cell_type": "code",
   "execution_count": 68,
   "metadata": {},
   "outputs": [
    {
     "name": "stdout",
     "output_type": "stream",
     "text": [
      "[1, 2, 3, 4, 5, 6]\n",
      "('tuple item', [2, 4, 6]) ('tuple item', [2, 4, 6])\n",
      "('tuple item', [2, 4, 6, 'hello']) ('tuple item', [2, 4, 6, 'hello'])\n"
     ]
    }
   ],
   "source": [
    "my_tuple = (2, 4, 6, 8 ,10)\n",
    "my_empty_tuple = tuple()\n",
    "my_tuple_from_list = tuple([2, 4, 6, 8])\n",
    "\n",
    "# same indexing syntax\n",
    "# my_tuple.append(2)\n",
    "# del(my_tuple[2])\n",
    "t = (3,2,1,4,5,6)\n",
    "print(sorted(t)) # returns a list containing the results\n",
    "\n",
    "# tuple is immutable but list reference can still be edited\n",
    "l = [2, 4, 6]\n",
    "t = (\"tuple item\", l)\n",
    "\n",
    "t_copy = t[:] # copy.deepcopy(t) doesnt have this issue\n",
    "print(t, t_copy)\n",
    "l.append(\"hello\")\n",
    "print(t, t_copy)\n"
   ]
  },
  {
   "cell_type": "markdown",
   "metadata": {},
   "source": [
    "## Strings"
   ]
  },
  {
   "cell_type": "code",
   "execution_count": 75,
   "metadata": {},
   "outputs": [
    {
     "name": "stdout",
     "output_type": "stream",
     "text": [
      "Hello World!!\n",
      "My name is Devendra, I live in India\n",
      "My name is Devendra, I live in India\n",
      "My name is Devendra. I live in India\n",
      "Hello Dev!!\n",
      "My notebook costs 211.13\n"
     ]
    }
   ],
   "source": [
    "print(\"Hello World!!\")\n",
    "\n",
    "print(\"My name is {0}, I live in {1}\".format(\"Devendra\",\"India\"))\n",
    "print(\"My name is {}, I live in {}\".format(\"Devendra\",\"India\"))\n",
    "\n",
    "print(\"My name is {name}. I live in {country}\".format(name=\"Devendra\", country=\"India\"))\n",
    "\n",
    "name = \"Dev\"\n",
    "print(f\"Hello {name}!!\") #f-string\n",
    "print(\"My notebook costs {price:.2f}\".format(price=211.126))\n"
   ]
  },
  {
   "cell_type": "code",
   "execution_count": 71,
   "metadata": {},
   "outputs": [
    {
     "name": "stdout",
     "output_type": "stream",
     "text": [
      "True\n",
      "False\n",
      "am Devendra.\n",
      "I live in India.\n",
      "I am Devendra.\n",
      "I am Devendra.\n",
      "5\n",
      "-1\n"
     ]
    }
   ],
   "source": [
    "txt = \"I am Devendra. I live in India.\"\n",
    "\n",
    "# indexing same as list\n",
    "print(\"India\" in txt)\n",
    "print(\"India\" not in txt)\n",
    "print(txt[2:14])\n",
    "print(txt[15:])\n",
    "print(txt[:14])\n",
    "print(txt[-31: -17])\n",
    "print(txt.find(\"Dev\")) # index of first character\n",
    "print(txt.find(\"dev\"))\n",
    "\n",
    "\n",
    "\n"
   ]
  },
  {
   "cell_type": "code",
   "execution_count": 73,
   "metadata": {},
   "outputs": [
    {
     "name": "stdout",
     "output_type": "stream",
     "text": [
      "  I AM DEVENDRA. I LIVE IN INDIA.  \n",
      "  i am devendra. i live in india.  \n",
      "['I', 'am', 'Devendra.', 'I', 'live', 'in', 'India.']\n",
      "['  I am Devendra', ' I live in India', '  ']\n",
      "  I am Ram. I live in India.  \n",
      "35\n",
      "I am Devendra. I live in India.\n",
      "I am Devendra. I live in India\n"
     ]
    }
   ],
   "source": [
    "print(txt.upper())\n",
    "print(txt.lower())\n",
    "\n",
    "print(txt.split())\n",
    "print(txt.split(\".\"))\n",
    "# txt.splitlines()\n",
    "print(txt.replace(\"Devendra\", \"Ram\"))\n",
    "print(len(txt))\n",
    "\n",
    "txt = \"  I am Devendra. I live in India.  \"\n",
    "print(txt.strip())\n",
    "print(txt.strip(\". \")) # input all characters used to strip, default is whitespace\n"
   ]
  },
  {
   "cell_type": "code",
   "execution_count": 74,
   "metadata": {},
   "outputs": [
    {
     "name": "stdout",
     "output_type": "stream",
     "text": [
      "HelloWorld\n",
      "Hello World\n",
      "Hello World!\n"
     ]
    }
   ],
   "source": [
    "s1 = \"Hello\"\n",
    "s2 = \"World\"\n",
    "print(s1 + s2)\n",
    "print(s1 + \" \" + s2)\n",
    "print(\" \".join([\"Hello\", \"World!\"]))"
   ]
  },
  {
   "cell_type": "markdown",
   "metadata": {},
   "source": [
    "## Dictionary (O(1) lookup & named indexing called keys) \n",
    "- keys should be immutable\n",
    "- dictionary is mutable\n",
    "- values can anything"
   ]
  },
  {
   "cell_type": "code",
   "execution_count": 78,
   "metadata": {},
   "outputs": [
    {
     "name": "stdout",
     "output_type": "stream",
     "text": [
      "{}\n",
      "{'name': 'Devendra', 'sex': 'Male'}\n"
     ]
    }
   ],
   "source": [
    "d = dict()\n",
    "print(d)\n",
    "d[\"name\"] = \"Devendra\"\n",
    "d[\"sex\"] = \"Male\"\n",
    "print(d)"
   ]
  },
  {
   "cell_type": "code",
   "execution_count": 87,
   "metadata": {},
   "outputs": [
    {
     "name": "stdout",
     "output_type": "stream",
     "text": [
      "{'name': 'Devendra', 'sex': 'Male'}\n",
      "{'name': 'Devendra', 'sex': 'Male', 'last_name': 'Sahu'}\n",
      "{'name': 'Devendra', 'sex': 'Male'}\n",
      "2\n",
      "False\n"
     ]
    }
   ],
   "source": [
    "d = { \"name\": \"Devendra\", \"sex\": \"Male\"}\n",
    "print(d)\n",
    "d[\"last_name\"] = \"Sahu\"\n",
    "print(d)\n",
    "del d[\"last_name\"]\n",
    "print(d)\n",
    "print(len(d))\n",
    "print(\"age\" in d)"
   ]
  },
  {
   "cell_type": "code",
   "execution_count": 86,
   "metadata": {},
   "outputs": [
    {
     "name": "stdout",
     "output_type": "stream",
     "text": [
      "name Devendra\n",
      "sex Male\n"
     ]
    }
   ],
   "source": [
    "for key in d:\n",
    "    print(key, d[key])\n",
    "    "
   ]
  },
  {
   "cell_type": "code",
   "execution_count": 89,
   "metadata": {},
   "outputs": [
    {
     "name": "stdout",
     "output_type": "stream",
     "text": [
      "dict_keys(['name', 'sex'])\n",
      "dict_values(['Devendra', 'Male'])\n",
      "dict_items([('name', 'Devendra'), ('sex', 'Male')])\n"
     ]
    }
   ],
   "source": [
    "print(d.keys())\n",
    "print(d.values())\n",
    "print(d.items())"
   ]
  },
  {
   "cell_type": "code",
   "execution_count": null,
   "metadata": {},
   "outputs": [],
   "source": []
  }
 ],
 "metadata": {
  "kernelspec": {
   "display_name": "Python 3",
   "language": "python",
   "name": "python3"
  },
  "language_info": {
   "codemirror_mode": {
    "name": "ipython",
    "version": 3
   },
   "file_extension": ".py",
   "mimetype": "text/x-python",
   "name": "python",
   "nbconvert_exporter": "python",
   "pygments_lexer": "ipython3",
   "version": "3.10.4"
  },
  "orig_nbformat": 4
 },
 "nbformat": 4,
 "nbformat_minor": 2
}
