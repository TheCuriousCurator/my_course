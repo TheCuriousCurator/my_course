{
 "cells": [
  {
   "cell_type": "markdown",
   "metadata": {},
   "source": [
    "## Sets"
   ]
  },
  {
   "cell_type": "code",
   "execution_count": 7,
   "metadata": {},
   "outputs": [],
   "source": [
    "s = set()"
   ]
  },
  {
   "cell_type": "code",
   "execution_count": 19,
   "metadata": {},
   "outputs": [],
   "source": [
    "s = {0,1,2,3}\n",
    "#s = set([0,1,2,3])"
   ]
  },
  {
   "cell_type": "code",
   "execution_count": 9,
   "metadata": {},
   "outputs": [],
   "source": [
    "s.add(10)"
   ]
  },
  {
   "cell_type": "code",
   "execution_count": 10,
   "metadata": {},
   "outputs": [
    {
     "data": {
      "text/plain": [
       "False"
      ]
     },
     "execution_count": 10,
     "metadata": {},
     "output_type": "execute_result"
    }
   ],
   "source": [
    "9 in s"
   ]
  },
  {
   "cell_type": "code",
   "execution_count": 11,
   "metadata": {},
   "outputs": [
    {
     "data": {
      "text/plain": [
       "True"
      ]
     },
     "execution_count": 11,
     "metadata": {},
     "output_type": "execute_result"
    }
   ],
   "source": [
    "10 in s"
   ]
  },
  {
   "cell_type": "code",
   "execution_count": 12,
   "metadata": {},
   "outputs": [],
   "source": [
    "s.remove(0)"
   ]
  },
  {
   "cell_type": "code",
   "execution_count": 14,
   "metadata": {},
   "outputs": [
    {
     "data": {
      "text/plain": [
       "{1, 2, 3, 4, 5, 6}"
      ]
     },
     "execution_count": 14,
     "metadata": {},
     "output_type": "execute_result"
    }
   ],
   "source": [
    "s1 = {1,2,3,4}\n",
    "s2= {3,4,5,6}\n",
    "\n",
    "s1.union(s2)"
   ]
  },
  {
   "cell_type": "code",
   "execution_count": 15,
   "metadata": {},
   "outputs": [
    {
     "data": {
      "text/plain": [
       "{3, 4}"
      ]
     },
     "execution_count": 15,
     "metadata": {},
     "output_type": "execute_result"
    }
   ],
   "source": [
    "s1.intersection(s2)"
   ]
  },
  {
   "cell_type": "code",
   "execution_count": 16,
   "metadata": {},
   "outputs": [
    {
     "data": {
      "text/plain": [
       "{1, 2}"
      ]
     },
     "execution_count": 16,
     "metadata": {},
     "output_type": "execute_result"
    }
   ],
   "source": [
    "s1.difference(s2)"
   ]
  },
  {
   "cell_type": "code",
   "execution_count": 17,
   "metadata": {},
   "outputs": [
    {
     "data": {
      "text/plain": [
       "False"
      ]
     },
     "execution_count": 17,
     "metadata": {},
     "output_type": "execute_result"
    }
   ],
   "source": [
    "s1.isdisjoint(s2)"
   ]
  },
  {
   "cell_type": "code",
   "execution_count": 18,
   "metadata": {},
   "outputs": [
    {
     "data": {
      "text/plain": [
       "False"
      ]
     },
     "execution_count": 18,
     "metadata": {},
     "output_type": "execute_result"
    }
   ],
   "source": [
    "s1.issubset(s2)       # Is s1 is a subset of s2"
   ]
  },
  {
   "cell_type": "markdown",
   "metadata": {},
   "source": [
    "## args and kwargs"
   ]
  },
  {
   "cell_type": "code",
   "execution_count": 1,
   "metadata": {},
   "outputs": [],
   "source": [
    "#sum of all numbers in a list \n",
    "def sum_many_args(*args):\n",
    "    print(type(args))\n",
    "    return sum(args)\n",
    "\n"
   ]
  },
  {
   "cell_type": "code",
   "execution_count": 2,
   "metadata": {},
   "outputs": [
    {
     "name": "stdout",
     "output_type": "stream",
     "text": [
      "<class 'tuple'>\n"
     ]
    },
    {
     "data": {
      "text/plain": [
       "15"
      ]
     },
     "execution_count": 2,
     "metadata": {},
     "output_type": "execute_result"
    }
   ],
   "source": [
    "sum_many_args(1, 2, 3, 4, 5)"
   ]
  },
  {
   "cell_type": "code",
   "execution_count": 3,
   "metadata": {},
   "outputs": [],
   "source": [
    "def sum_many_kwargs(**kwargs):\n",
    "    print(type(kwargs))\n",
    "    return sum(kwargs.values())"
   ]
  },
  {
   "cell_type": "code",
   "execution_count": 4,
   "metadata": {},
   "outputs": [
    {
     "name": "stdout",
     "output_type": "stream",
     "text": [
      "<class 'dict'>\n"
     ]
    },
    {
     "data": {
      "text/plain": [
       "3"
      ]
     },
     "execution_count": 4,
     "metadata": {},
     "output_type": "execute_result"
    }
   ],
   "source": [
    "sum_many_kwargs(a=1, b=2)"
   ]
  },
  {
   "cell_type": "code",
   "execution_count": 5,
   "metadata": {},
   "outputs": [],
   "source": [
    "def sum_args_kwargs(*args, **kwargs):\n",
    "    print(type(args), type(kwargs))\n",
    "    return sum(kwargs.values()) + sum(args)"
   ]
  },
  {
   "cell_type": "code",
   "execution_count": 6,
   "metadata": {},
   "outputs": [
    {
     "name": "stdout",
     "output_type": "stream",
     "text": [
      "<class 'tuple'> <class 'dict'>\n"
     ]
    },
    {
     "data": {
      "text/plain": [
       "15"
      ]
     },
     "execution_count": 6,
     "metadata": {},
     "output_type": "execute_result"
    }
   ],
   "source": [
    "sum_args_kwargs(1,2,3, a=4, b=5)"
   ]
  },
  {
   "cell_type": "markdown",
   "metadata": {},
   "source": [
    "## Comprehensions\n",
    "- List Comprehension\n",
    "- Dictionary Comprehension\n",
    "- Set Comprehension\n",
    "- Generator Comprehension"
   ]
  },
  {
   "cell_type": "code",
   "execution_count": 20,
   "metadata": {},
   "outputs": [
    {
     "name": "stdout",
     "output_type": "stream",
     "text": [
      "[0, 1, 2, 3, 4, 5, 6, 7, 8, 9, 10, 11, 12, 13, 14, 15, 16, 17, 18, 19]\n"
     ]
    }
   ],
   "source": [
    "l = list()\n",
    "for i in range(20):\n",
    "    l.append(i)\n",
    "\n",
    "print(l)"
   ]
  },
  {
   "cell_type": "code",
   "execution_count": 29,
   "metadata": {},
   "outputs": [
    {
     "name": "stdout",
     "output_type": "stream",
     "text": [
      "[0, 1, 2, 3, 4, 5, 6, 7, 8, 9, 10, 11, 12, 13, 14, 15, 16, 17, 18, 19]\n",
      "[0, 2, 4, 6, 8, 10, 12, 14, 16, 18]\n"
     ]
    }
   ],
   "source": [
    "# list comprehensions\n",
    "l = [i for i in range(20)]\n",
    "l2 = [i for i in range(20) if i%2==0]\n",
    "print(l)\n",
    "print(l2)"
   ]
  },
  {
   "cell_type": "code",
   "execution_count": 23,
   "metadata": {},
   "outputs": [
    {
     "name": "stdout",
     "output_type": "stream",
     "text": [
      "{'Hello': 5, 'World': 5, 'I': 1, 'am': 2, 'Devendra': 8}\n",
      "{'Hello': 5, 'World': 5, 'I': 1, 'am': 2, 'Devendra': 8}\n"
     ]
    }
   ],
   "source": [
    "# dictionary comprehension\n",
    "words = [\"Hello\", \"World\", \"I\", \"am\", \"Devendra\"]\n",
    "d = dict()\n",
    "for w in words:\n",
    "    d[w] = len(w)\n",
    "\n",
    "print(d)\n",
    "print({w:len(w) for w in words})"
   ]
  },
  {
   "cell_type": "code",
   "execution_count": 25,
   "metadata": {},
   "outputs": [
    {
     "name": "stdout",
     "output_type": "stream",
     "text": [
      "{'Hello': 5, 'World': 5, 'I': 1, 'am': 2, 'Devendra': 8}\n"
     ]
    }
   ],
   "source": [
    "words = d.keys()\n",
    "lengths = d.values()\n",
    "word_dict = {k:v for (k,v) in zip(words, lengths)}\n",
    "print(word_dict)"
   ]
  },
  {
   "cell_type": "code",
   "execution_count": 26,
   "metadata": {},
   "outputs": [
    {
     "name": "stdout",
     "output_type": "stream",
     "text": [
      "{'machine', 'advanced', 'python', 'topics', 'an', 'recognition', 'in', 'probabilistic', 'introduction', 'pattern', 'learning', 'and'}\n"
     ]
    }
   ],
   "source": [
    "# set comprehension\n",
    "l = [\"probabilistic machine learning an introduction\", \n",
    "     \"probabilistic machine learning advanced topics\",\n",
    "     \"machine Learning in python\",\n",
    "     \"pattern recognition and machine learning\"]\n",
    "set_tokens = {w.lower()\n",
    "              for s in l\n",
    "              for w in s.split()\n",
    "              }\n",
    "print(set_tokens)"
   ]
  },
  {
   "cell_type": "code",
   "execution_count": 28,
   "metadata": {},
   "outputs": [
    {
     "name": "stdout",
     "output_type": "stream",
     "text": [
      "<generator object <genexpr> at 0x10c074270>\n",
      "4\n",
      "16\n",
      "36\n",
      "64\n",
      "100\n"
     ]
    }
   ],
   "source": [
    "# Generator Comprehensions\n",
    "gen = (x*x for x in range(1,11) if x%2==0)\n",
    "print(gen)\n",
    "for sq in gen:\n",
    "    print(sq)"
   ]
  },
  {
   "cell_type": "markdown",
   "metadata": {},
   "source": [
    "## Higher Order Functions\n",
    "- function as values in a variable\n",
    "- pass function as parameters in functions\n",
    "- return a function\n",
    "- function as first class citizen"
   ]
  },
  {
   "cell_type": "code",
   "execution_count": 37,
   "metadata": {},
   "outputs": [
    {
     "name": "stdout",
     "output_type": "stream",
     "text": [
      "[1, 4, 9]\n",
      "[1, 8, 27]\n"
     ]
    }
   ],
   "source": [
    "def apply_operation(input, operation):\n",
    "    return [operation(i) for i in input]\n",
    "\n",
    "def square(x):\n",
    "    return x*x\n",
    "\n",
    "def cube(x):\n",
    "    return x**3\n",
    "\n",
    "l = [1,2,3]\n",
    "print(apply_operation(l, square))\n",
    "print(apply_operation(l, cube))"
   ]
  },
  {
   "cell_type": "code",
   "execution_count": 38,
   "metadata": {},
   "outputs": [
    {
     "name": "stdout",
     "output_type": "stream",
     "text": [
      "['I', 'am', 'Hello', 'World', 'Devendra']\n"
     ]
    }
   ],
   "source": [
    "\n",
    "words = [\"Hello\", \"World\", \"I\", \"am\", \"Devendra\"]\n",
    "sorted_words = sorted(words, key=lambda x: len(x))\n",
    "\n",
    "print(sorted_words)"
   ]
  },
  {
   "cell_type": "markdown",
   "metadata": {},
   "source": [
    "# Filter"
   ]
  },
  {
   "cell_type": "code",
   "execution_count": 36,
   "metadata": {},
   "outputs": [
    {
     "name": "stdout",
     "output_type": "stream",
     "text": [
      "[2, 3, 5, 7, 11, 13, 17, 19]\n"
     ]
    }
   ],
   "source": [
    "# find prime numbers\n",
    "def is_prime(n):\n",
    "    if n<=1:\n",
    "        return False\n",
    "    for i in range(2,n):\n",
    "        if n%i == 0:\n",
    "            return False\n",
    "    return True\n",
    "\n",
    "n = [x for x in range(20)]\n",
    "prime_numbers = list(filter(is_prime, n))\n",
    "print(prime_numbers)"
   ]
  },
  {
   "cell_type": "markdown",
   "metadata": {},
   "source": [
    "# map"
   ]
  },
  {
   "cell_type": "code",
   "execution_count": 40,
   "metadata": {},
   "outputs": [
    {
     "name": "stdout",
     "output_type": "stream",
     "text": [
      "[1, 4, 9]\n",
      "[5, 7, 9]\n"
     ]
    }
   ],
   "source": [
    "l1 = [1,2,3]\n",
    "l2 = [4,5,6]\n",
    "\n",
    "squares = list(map(lambda x: x**2, l1))\n",
    "sum_vector = list(map(lambda x,y: x+y, l1, l2)) \n",
    "print(squares)\n",
    "print(sum_vector)"
   ]
  },
  {
   "cell_type": "markdown",
   "metadata": {},
   "source": [
    "# reduce"
   ]
  },
  {
   "cell_type": "code",
   "execution_count": 47,
   "metadata": {},
   "outputs": [
    {
     "name": "stdout",
     "output_type": "stream",
     "text": [
      "9\n",
      "26\n",
      "26\n",
      "HelloWorld\n",
      "2160\n"
     ]
    }
   ],
   "source": [
    "from functools import reduce\n",
    "import operator\n",
    "\n",
    "l = [4,2,6,5,9]\n",
    "#maximum\n",
    "print(reduce(lambda x,y: x if x>y else y, l))\n",
    "#sum\n",
    "print(reduce(lambda x,y: x+y, l))\n",
    "#sum\n",
    "print(reduce(operator.add, l))\n",
    "#sum\n",
    "print(reduce(operator.add, [\"Hello\", \"World\"]))\n",
    "#sum\n",
    "print(reduce(operator.mul, l))\n"
   ]
  },
  {
   "cell_type": "markdown",
   "metadata": {},
   "source": [
    "# Class and OOP\n",
    "- objects can have their own data/attributes and behaviors/methods\n",
    "\n",
    "- self  \n",
    "    - Class methods must have an extra first parameter in the method definition. We do not give a value for this parameter when we call the method, Python provides it\n",
    "    - If we have a method that takes no arguments, then we still have to have one argument.\n",
    "- \\_\\_init\\_\\_\n",
    "    - is called a constructor\n",
    "    - this is run as soon as an object of a class is instantiated. \n",
    "    - The method is useful to do any initialization you want to do with your object."
   ]
  },
  {
   "cell_type": "code",
   "execution_count": 49,
   "metadata": {},
   "outputs": [],
   "source": [
    "class Dog:\n",
    "    pass\n",
    "\n",
    "obj = Dog()"
   ]
  },
  {
   "cell_type": "code",
   "execution_count": 52,
   "metadata": {},
   "outputs": [
    {
     "name": "stdout",
     "output_type": "stream",
     "text": [
      "Rodger is a mammal\n",
      "Tommy is also a mammal\n",
      "My name is Rodger\n",
      "My name is Tommy\n"
     ]
    }
   ],
   "source": [
    "class Dog:\n",
    "    # class attribute\n",
    "    attr1 = \"mammal\"\n",
    " \n",
    "    # Instance attribute\n",
    "    def __init__(self, name):\n",
    "        self.name = name\n",
    " \n",
    "# Driver code\n",
    "# Object instantiation\n",
    "# To create an object, you simply call the class with the necessary arguments.\n",
    "Rodger = Dog(\"Rodger\")\n",
    "Tommy = Dog(\"Tommy\")\n",
    " \n",
    "# Accessing class attributes\n",
    "print(\"Rodger is a {}\".format(Rodger.__class__.attr1))\n",
    "print(\"Tommy is also a {}\".format(Tommy.__class__.attr1))\n",
    " \n",
    "# Accessing instance attributes\n",
    "# Use the dot notation to access and modify an object's attributes and call its methods. \n",
    "# These objects can have their own data (attributes) and behaviors (methods).\n",
    "print(\"My name is {}\".format(Rodger.name))\n",
    "print(\"My name is {}\".format(Tommy.name))"
   ]
  },
  {
   "cell_type": "code",
   "execution_count": 53,
   "metadata": {},
   "outputs": [
    {
     "name": "stdout",
     "output_type": "stream",
     "text": [
      "My name is Rodger\n",
      "My name is Tommy\n"
     ]
    }
   ],
   "source": [
    "class Dog:\n",
    " \n",
    "    # class attribute\n",
    "    attr1 = \"mammal\"\n",
    " \n",
    "    # Instance attribute\n",
    "    def __init__(self, name):\n",
    "        self.name = name\n",
    "         \n",
    "    def speak(self):\n",
    "        print(\"My name is {}\".format(self.name))\n",
    " \n",
    "# Driver code\n",
    "# Object instantiation\n",
    "Rodger = Dog(\"Rodger\")\n",
    "Tommy = Dog(\"Tommy\")\n",
    " \n",
    "# Accessing class methods\n",
    "Rodger.speak()\n",
    "Tommy.speak()"
   ]
  },
  {
   "cell_type": "markdown",
   "metadata": {},
   "source": [
    "# Inheritance"
   ]
  },
  {
   "cell_type": "code",
   "execution_count": 55,
   "metadata": {},
   "outputs": [
    {
     "name": "stdout",
     "output_type": "stream",
     "text": [
      "Rahul\n",
      "886012\n",
      "My name is Rahul\n",
      "IdNumber: 886012\n",
      "Post: Intern\n"
     ]
    }
   ],
   "source": [
    "# Python code to demonstrate how parent constructors\n",
    "# are called.\n",
    "\n",
    "# parent class\n",
    "class Person(object):\n",
    "    # __init__ is known as the constructor\n",
    "    def __init__(self, name, idnumber):\n",
    "        self.name = name\n",
    "        self.idnumber = idnumber\n",
    "\n",
    "    def display(self):\n",
    "        print(self.name)\n",
    "        print(self.idnumber)\n",
    "        \n",
    "    def details(self):\n",
    "        print(\"My name is {}\".format(self.name))\n",
    "        print(\"IdNumber: {}\".format(self.idnumber))\n",
    "\t\n",
    "# child class\n",
    "class Employee(Person):\n",
    "    def __init__(self, name, idnumber, salary, post):\n",
    "        # invoking the __init__ of the parent class\n",
    "        super().__init__(name, idnumber)\n",
    "        self.salary = salary\n",
    "        self.post = post\n",
    "\t\t\n",
    "    def details(self):\n",
    "        print(\"My name is {}\".format(self.name))\n",
    "        print(\"IdNumber: {}\".format(self.idnumber))\n",
    "        print(\"Post: {}\".format(self.post))\n",
    "\n",
    "\n",
    "# creation of an object variable or an instance\n",
    "a = Employee('Rahul', 886012, 200000, \"Intern\")\n",
    "\n",
    "# calling a function of the class Person using\n",
    "# its instance\n",
    "a.display()\n",
    "a.details()\n"
   ]
  },
  {
   "cell_type": "code",
   "execution_count": 59,
   "metadata": {},
   "outputs": [
    {
     "name": "stdout",
     "output_type": "stream",
     "text": [
      "GeeksforGeeks\n"
     ]
    }
   ],
   "source": [
    "# Python program to\n",
    "# demonstrate private members\n",
    " \n",
    "# Creating a Base class\n",
    "class Base:\n",
    "    def __init__(self):\n",
    "        self.a = \"GeeksforGeeks\"\n",
    "        # private attribute\n",
    "        self.__c = \"GeeksforGeeks\"\n",
    " \n",
    "# Creating a derived class\n",
    "class Derived(Base):\n",
    "    def __init__(self):\n",
    " \n",
    "        # Calling constructor of\n",
    "        # Base class\n",
    "        Base.__init__(self)\n",
    "        print(\"Calling private member of base class: \")\n",
    "        print(self.__c)\n",
    " \n",
    " \n",
    "# Driver code\n",
    "obj1 = Base()\n",
    "print(obj1.a)\n",
    " \n",
    "# Uncommenting print(obj1.c) will\n",
    "# raise an AttributeError\n",
    " \n",
    "# Uncommenting obj2 = Derived() will\n",
    "# obj2 = Derived()\n",
    "# also raise an AtrributeError as\n",
    "# private member of base class\n",
    "# is called inside derived class"
   ]
  },
  {
   "cell_type": "markdown",
   "metadata": {},
   "source": [
    "# multiple inheritance"
   ]
  },
  {
   "cell_type": "code",
   "execution_count": 63,
   "metadata": {},
   "outputs": [
    {
     "name": "stdout",
     "output_type": "stream",
     "text": [
      "Swimming\n",
      "Flying\n",
      "[<class '__main__.Duck'>, <class '__main__.Swim'>, <class '__main__.Fly'>, <class 'object'>]\n"
     ]
    }
   ],
   "source": [
    "class Swim:\n",
    "    def swim(self):\n",
    "        print(\"Swimming\")\n",
    "\n",
    "class Fly:\n",
    "    def fly(self):\n",
    "        print(\"Flying\")\n",
    "\n",
    "class Duck(Swim, Fly):\n",
    "    pass\n",
    "\n",
    "duck = Duck()\n",
    "duck.swim()\n",
    "duck.fly()\n",
    "\n",
    "# Python uses the Method Resolution Order (MRO) to determine the order in which methods are searched for in the class hierarchy\n",
    "print(Duck.mro())\n"
   ]
  },
  {
   "cell_type": "code",
   "execution_count": 64,
   "metadata": {},
   "outputs": [
    {
     "name": "stdout",
     "output_type": "stream",
     "text": [
      "Platypus.speak\n",
      "Bird.speak\n",
      "Mammal.speak\n",
      "Animal.speak\n"
     ]
    }
   ],
   "source": [
    "class Animal:\n",
    "    def speak(self):\n",
    "        print(\"Animal.speak\")\n",
    "\n",
    "class Bird(Animal):\n",
    "    def speak(self):\n",
    "        print(\"Bird.speak\")\n",
    "        super().speak()\n",
    "\n",
    "class Mammal(Animal):\n",
    "    def speak(self):\n",
    "        print(\"Mammal.speak\")\n",
    "        super().speak()\n",
    "\n",
    "class Platypus(Bird, Mammal):\n",
    "    def speak(self):\n",
    "        print(\"Platypus.speak\")\n",
    "        super().speak()\n",
    "\n",
    "p = Platypus()\n",
    "p.speak()"
   ]
  },
  {
   "cell_type": "code",
   "execution_count": 65,
   "metadata": {},
   "outputs": [
    {
     "name": "stdout",
     "output_type": "stream",
     "text": [
      "Playing video file\n",
      "Playing audio file\n",
      "Displaying image file\n"
     ]
    }
   ],
   "source": [
    "# =============================================================================\n",
    "# Polymorphism\n",
    "# =============================================================================\n",
    "class MediaFile:\n",
    "    def play(self):\n",
    "        pass\n",
    "\n",
    "class AudioFile(MediaFile):\n",
    "    def play(self):\n",
    "        print(\"Playing audio file\")\n",
    "\n",
    "class VideoFile(MediaFile):\n",
    "    def play(self):\n",
    "        print(\"Playing video file\")\n",
    "\n",
    "class ImageFile(MediaFile):\n",
    "    def play(self):\n",
    "        print(\"Displaying image file\")\n",
    "\n",
    "media_files = [VideoFile(), AudioFile(), ImageFile()]\n",
    "\n",
    "for media_file in media_files:\n",
    "    media_file.play()\n"
   ]
  },
  {
   "cell_type": "code",
   "execution_count": 66,
   "metadata": {},
   "outputs": [
    {
     "name": "stdout",
     "output_type": "stream",
     "text": [
      "olleh\n",
      "True\n",
      "2\n"
     ]
    }
   ],
   "source": [
    "# =============================================================================\n",
    "# @staticmethod\n",
    "# =============================================================================\n",
    "class StringUtils:\n",
    "    @staticmethod\n",
    "    def reverse_string(s):\n",
    "        return s[::-1]\n",
    "\n",
    "    @staticmethod\n",
    "    def is_palindrome(s):\n",
    "        return s == s[::-1]\n",
    "\n",
    "    @staticmethod\n",
    "    def word_count(s):\n",
    "        return len(s.split())\n",
    "\n",
    "print(StringUtils.reverse_string(\"hello\"))\n",
    "print(StringUtils.is_palindrome(\"racecar\"))\n",
    "print(StringUtils.word_count(\"Hello, world!\"))"
   ]
  },
  {
   "cell_type": "code",
   "execution_count": 68,
   "metadata": {},
   "outputs": [
    {
     "name": "stdout",
     "output_type": "stream",
     "text": [
      "Total pizzas: 3\n",
      "Most popular topping: Cheese\n",
      "Total pizzas (instance method): 3\n"
     ]
    }
   ],
   "source": [
    "# =============================================================================\n",
    "# @classmethod\n",
    "# =============================================================================\n",
    "class Pizza:\n",
    "    total_pizzas = 0\n",
    "    most_popular_topping = \"\"\n",
    "\n",
    "    def __init__(self, topping):\n",
    "        Pizza.total_pizzas += 1\n",
    "        Pizza.most_popular_topping = topping\n",
    "\n",
    "    @classmethod\n",
    "    def get_total_pizzas(cls):\n",
    "        return cls.total_pizzas\n",
    "\n",
    "    @classmethod\n",
    "    def get_most_popular_topping(cls):\n",
    "        return cls.most_popular_topping\n",
    "    \n",
    "    def get_total_pizzas_1(self):\n",
    "        return self.total_pizzas\n",
    "\n",
    "# Create instances of the Pizza class\n",
    "pizza1 = Pizza(\"Pepperoni\")\n",
    "pizza2 = Pizza(\"Mushroom\")\n",
    "pizza3 = Pizza(\"Cheese\")\n",
    "\n",
    "# Access class methods\n",
    "total_pizzas = Pizza.get_total_pizzas()\n",
    "print(\"Total pizzas:\", total_pizzas)  # Output: Total pizzas: 3\n",
    "\n",
    "most_popular_topping = Pizza.get_most_popular_topping()\n",
    "print(\"Most popular topping:\", most_popular_topping)  \n",
    "# Output: Most popular topping: Cheese\n",
    "\n",
    "# Access instance method\n",
    "total_pizzas_1 = pizza1.get_total_pizzas_1()\n",
    "print(\"Total pizzas (instance method):\", total_pizzas_1)  \n",
    "# Output: Total pizzas (instance method): 3\n"
   ]
  },
  {
   "cell_type": "code",
   "execution_count": 69,
   "metadata": {},
   "outputs": [
    {
     "name": "stdout",
     "output_type": "stream",
     "text": [
      "Name: John Doe\n",
      "ID: 123\n"
     ]
    }
   ],
   "source": [
    "\n",
    "class Employee:\n",
    "    def __init__(self, name, id):\n",
    "        self.name = name\n",
    "        self.id = id\n",
    "\n",
    "    @classmethod\n",
    "    def from_string(cls, employee_string):\n",
    "        name, id = employee_string.split(',')\n",
    "        return cls(name, id)\n",
    "\n",
    "employee_string = \"John Doe,123\"\n",
    "employee = Employee.from_string(employee_string)\n",
    "\n",
    "# Access instance attributes\n",
    "print(\"Name:\", employee.name)  # Output: Name: John Doe\n",
    "print(\"ID:\", employee.id)  # Output: ID: 123"
   ]
  },
  {
   "cell_type": "markdown",
   "metadata": {},
   "source": [
    "# Generators with yeild"
   ]
  },
  {
   "cell_type": "code",
   "execution_count": 70,
   "metadata": {},
   "outputs": [
    {
     "name": "stdout",
     "output_type": "stream",
     "text": [
      "0\n",
      "1\n",
      "1\n",
      "2\n",
      "3\n",
      "5\n",
      "8\n"
     ]
    }
   ],
   "source": [
    "# =============================================================================\n",
    "# Generators: Yield Keyword\n",
    "# =============================================================================\n",
    "def fibonacci(limit):\n",
    "    a, b = 0, 1\n",
    "    while a < limit:\n",
    "        yield a\n",
    "        a, b = b, a + b\n",
    "\n",
    "fib_gen = fibonacci(10)\n",
    "for number in fib_gen:\n",
    "    print(number)"
   ]
  },
  {
   "cell_type": "code",
   "execution_count": 71,
   "metadata": {},
   "outputs": [
    {
     "name": "stdout",
     "output_type": "stream",
     "text": [
      "0\n",
      "2\n",
      "4\n",
      "6\n",
      "8\n"
     ]
    }
   ],
   "source": [
    "# =============================================================================\n",
    "# Using next with a generator\n",
    "# =============================================================================\n",
    "def even_numbers():\n",
    "    num = 0\n",
    "    while True:\n",
    "        yield num\n",
    "        num += 2\n",
    "\n",
    "even_gen = even_numbers()\n",
    "\n",
    "# Get the first 5 even numbers\n",
    "for _ in range(5):\n",
    "    print(next(even_gen))"
   ]
  },
  {
   "cell_type": "code",
   "execution_count": 75,
   "metadata": {},
   "outputs": [
    {
     "name": "stdout",
     "output_type": "stream",
     "text": [
      "A\n",
      "B\n",
      "C\n",
      "D\n",
      "E\n",
      "End of sequence\n"
     ]
    }
   ],
   "source": [
    "# =============================================================================\n",
    "# Using next with default value\n",
    "# =============================================================================\n",
    "def limited_alphabet(limit):\n",
    "    for i in range(65, 65 + limit):\n",
    "        yield chr(i)\n",
    "\n",
    "alphabet_gen = limited_alphabet(5)\n",
    "\n",
    "print(next(alphabet_gen, \"End of sequence\"))\n",
    "print(next(alphabet_gen, \"End of sequence\"))\n",
    "print(next(alphabet_gen, \"End of sequence\"))\n",
    "print(next(alphabet_gen, \"End of sequence\"))\n",
    "print(next(alphabet_gen, \"End of sequence\"))\n",
    "# instead of raising an exception, it uses defaul value\n",
    "print(next(alphabet_gen, \"End of sequence\"))"
   ]
  },
  {
   "cell_type": "code",
   "execution_count": 12,
   "metadata": {},
   "outputs": [
    {
     "name": "stdout",
     "output_type": "stream",
     "text": [
      "Sample count is : 3\n"
     ]
    }
   ],
   "source": [
    "def data_feeder(file_name):\n",
    "  for row in open(file_name, 'r'):\n",
    "    yield row\n",
    "\n",
    "data_gen = data_feeder(\"./data/data_gen.csv\")\n",
    "sample_count = 0\n",
    "\n",
    "for row in data_gen:\n",
    "  sample_count += 1\n",
    "\n",
    "print(f\"Sample count is : {sample_count}\")"
   ]
  },
  {
   "cell_type": "markdown",
   "metadata": {},
   "source": [
    "# Concurrency & Parallelism\n",
    "\n",
    "- Parallelism: A condition that arises when at least two threads are executing simultaneously.\n",
    "- Concurrency: A condition that exists when at least two threads are making progress. A more generalized form of parallelism that can include time-slicing as a form of virtual parallelism.\n",
    "\n",
    "https://towardsdatascience.com/multithreading-multiprocessing-python-180d0975ab29\n",
    "https://docs.oracle.com/cd/E19455-01/806-5257/6je9h032b/index.html\n",
    "\n",
    "- A __program__ is an executable file which consists of a set of instructions to perform some task and is usually stored on the disk of your computer.\n",
    "- A __process__ is what we call a program that has been loaded into memory along with all the resources it needs to operate. It has its own memory space.\n",
    "- A __thread__ is the unit of execution within a process. A process can have multiple threads running as a part of it, where each thread uses the process’s memory space and shares it with other threads.\n",
    "- __Multithreading__ is a technique where multiple threads are spawned by a process to do different tasks, at about the same time, just one after the other. This gives you the illusion that the threads are running in parallel, but they are actually run in a concurrent manner. In Python, the Global Interpreter Lock (GIL) prevents the threads from running simultaneously.\n",
    "- __Multiprocessing__ is a technique where parallelism in its truest form is achieved. Multiple processes are run across multiple CPU cores, which do not share the resources among them. Each process can have many threads running in its own memory space. In Python, each process has its own instance of Python interpreter doing the job of executing the instructions.\n",
    "\n",
    "\n"
   ]
  },
  {
   "cell_type": "code",
   "execution_count": 8,
   "metadata": {},
   "outputs": [
    {
     "name": "stdout",
     "output_type": "stream",
     "text": [
      "Starting worker thread.\n",
      "Main thread waiting for worker thread to finish\n",
      "\n",
      "Exiting worker thread.\n",
      "\n",
      "Main thread exiting\n"
     ]
    }
   ],
   "source": [
    "import threading\n",
    "import time\n",
    "\n",
    "def worker():\n",
    "    print(\"Starting worker thread.\\n\")\n",
    "    time.sleep(2)  # simulate some work\n",
    "    print(\"Exiting worker thread.\\n\")\n",
    "\n",
    "t = threading.Thread(target=worker)\n",
    "t.start()\n",
    "\n",
    "print(\"Main thread waiting for worker thread to finish\")\n",
    "t.join()  # wait for the worker thread to complete\n",
    "print(\"Main thread exiting\")"
   ]
  },
  {
   "cell_type": "markdown",
   "metadata": {},
   "source": []
  },
  {
   "cell_type": "code",
   "execution_count": 1,
   "metadata": {},
   "outputs": [],
   "source": [
    "import time, os\n",
    "from threading import Thread, current_thread\n",
    "from multiprocess import Process, current_process\n",
    "\n",
    "# Inside the IO-bound function, we ask the CPU to sit idle and pass time \n",
    "# whereas, inside the CPU-bound function, the CPU is going to be busy churning out a few numbers. \n",
    "COUNT = 600000000\n",
    "SLEEP = 10\n",
    " \n",
    "def io_bound(sec):\n",
    " \n",
    "    pid = os.getpid()\n",
    "    threadName = current_thread().name\n",
    "    processName = current_process().name\n",
    " \n",
    "    print(f\"{pid} * {processName} * {threadName} \\\n",
    "        ---> Start sleeping...\")\n",
    "    time.sleep(sec)\n",
    "    print(f\"{pid} * {processName} * {threadName} \\\n",
    "        ---> Finished sleeping...\")\n",
    " \n",
    "def cpu_bound(n):\n",
    " \n",
    "    pid = os.getpid()\n",
    "    threadName = current_thread().name\n",
    "    processName = current_process().name\n",
    " \n",
    "    print(f\"{pid} * {processName} * {threadName} \\\n",
    "        ---> Start counting...\")\n",
    " \n",
    "    while n>0:\n",
    "        n -= 1\n",
    " \n",
    "    print(f\"{pid} * {processName} * {threadName} \\\n",
    "        ---> Finished counting...\")\n",
    "\n"
   ]
  },
  {
   "cell_type": "markdown",
   "metadata": {},
   "source": [
    "We will run 6 different scenarios:\n"
   ]
  },
  {
   "cell_type": "code",
   "execution_count": 78,
   "metadata": {},
   "outputs": [
    {
     "name": "stdout",
     "output_type": "stream",
     "text": [
      "19291 * MainProcess * MainThread         ---> Start sleeping...\n",
      "19291 * MainProcess * MainThread         ---> Finished sleeping...\n",
      "19291 * MainProcess * MainThread         ---> Start sleeping...\n",
      "19291 * MainProcess * MainThread         ---> Finished sleeping...\n",
      "Time taken in seconds - 20.012096881866455\n"
     ]
    }
   ],
   "source": [
    "# Part 1: Running IO-bound task twice, one after the other… \n",
    "start = time.time()\n",
    "\n",
    "io_bound(SLEEP)\n",
    "io_bound(SLEEP)\n",
    "\n",
    "end = time.time()\n",
    "print('Time taken in seconds -', end - start)"
   ]
  },
  {
   "cell_type": "markdown",
   "metadata": {},
   "source": [
    "we ask our CPU to execute the function io_bound(), which takes in an integer (10, here) as a parameter and asks the CPU to sleep for that many seconds. This execution takes a total of 20 seconds, as each function execution takes 10 seconds to complete. Note that, it is the same MainProcess that calls our function twice, one after the other, using its default thread, MainThread. "
   ]
  },
  {
   "cell_type": "code",
   "execution_count": 79,
   "metadata": {},
   "outputs": [
    {
     "name": "stdout",
     "output_type": "stream",
     "text": [
      "19291 * MainProcess * Thread-4 (io_bound)         ---> Start sleeping...19291 * MainProcess * Thread-5 (io_bound)         ---> Start sleeping...\n",
      "\n",
      "19291 * MainProcess * Thread-5 (io_bound)         ---> Finished sleeping...\n",
      "19291 * MainProcess * Thread-4 (io_bound)         ---> Finished sleeping...\n",
      "Time taken in seconds - 10.105424165725708\n"
     ]
    }
   ],
   "source": [
    "# Part 2: Using threading to run the IO-bound tasks\n",
    "start = time.time()\n",
    "\n",
    "t1 = Thread(target = io_bound, args =(SLEEP, ))\n",
    "t2 = Thread(target = io_bound, args =(SLEEP, ))\n",
    "t1.start()\n",
    "t2.start()\n",
    "t1.join()\n",
    "t2.join()\n",
    "\n",
    "end = time.time()\n",
    "print('Time taken in seconds -', end - start)"
   ]
  },
  {
   "cell_type": "markdown",
   "metadata": {},
   "source": [
    "let’s use threading in Python to speed up the execution of the functions. The threads Thread-1 and Thread-2 are started by our MainProcess, each of which calls our function, at almost the same time. Both the threads complete their job of sleeping for 10 seconds, concurrently. This reduced the total execution time of our whole program by a significant 50%. Hence, multithreading is the go-to solution for executing tasks wherein the idle time of our CPU can be utilized to perform other tasks. Hence, saving time by making use of the wait time. "
   ]
  },
  {
   "cell_type": "code",
   "execution_count": 2,
   "metadata": {},
   "outputs": [
    {
     "name": "stdout",
     "output_type": "stream",
     "text": [
      "30473 * MainProcess * MainThread         ---> Start counting...\n",
      "30473 * MainProcess * MainThread         ---> Finished counting...\n",
      "30473 * MainProcess * MainThread         ---> Start counting...\n",
      "30473 * MainProcess * MainThread         ---> Finished counting...\n",
      "Time taken in seconds - 65.9787061214447\n"
     ]
    }
   ],
   "source": [
    "# Part 3: Running CPU-bound task twice, one after the other\n",
    "start = time.time()\n",
    "\n",
    "cpu_bound(COUNT)\n",
    "cpu_bound(COUNT)\n",
    "\n",
    "end = time.time()\n",
    "print('Time taken in seconds -', end - start)"
   ]
  },
  {
   "cell_type": "markdown",
   "metadata": {},
   "source": [
    "Here, we shall call our function cpu_bound(), which takes in a big number (200000000, here) as a parameter and decrements it at each step until it is zero. Our CPU is asked to do the countdown at each function call, which roughly takes around 11 seconds (this number might differ on your machine). Hence, the execution of the whole program took me about 22 seconds to complete. Note that it is once again our MainProcess calling the function twice, one after the other, in its default thread, MainThread. \n",
    "\n"
   ]
  },
  {
   "cell_type": "code",
   "execution_count": 3,
   "metadata": {},
   "outputs": [
    {
     "name": "stdout",
     "output_type": "stream",
     "text": [
      "30473 * MainProcess * Thread-4 (cpu_bound)         ---> Start counting...\n",
      "30473 * MainProcess * Thread-5 (cpu_bound)         ---> Start counting...\n",
      "30473 * MainProcess * Thread-4 (cpu_bound)         ---> Finished counting...\n",
      "30473 * MainProcess * Thread-5 (cpu_bound)         ---> Finished counting...\n",
      "Time taken in seconds - 66.30140900611877\n"
     ]
    }
   ],
   "source": [
    "# Part 4: Can threading speed up our CPU-bound tasks? \n",
    "start = time.time()\n",
    "\n",
    "t1 = Thread(target = cpu_bound, args =(COUNT, ))\n",
    "t2 = Thread(target = cpu_bound, args =(COUNT, ))\n",
    "t1.start()\n",
    "t2.start()\n",
    "t1.join()\n",
    "t2.join()\n",
    "\n",
    "end = time.time()\n",
    "print('Time taken in seconds -', end - start)"
   ]
  },
  {
   "cell_type": "markdown",
   "metadata": {},
   "source": [
    "we just proved that threading worked amazingly well for multiple IO-bound tasks. Let’s use the same approach for executing our CPU-bound tasks. Well, it did kick off our threads at the same time initially, but in the end, we see that the whole program execution took about a whopping 40 seconds! What just happened? This is because when Thread-1 started, it acquired the Global Interpreter Lock (GIL) which prevented Thread-2 to make use of the CPU. Hence, Thread-2 had to wait for Thread-1 to finish its task and release the lock so that it can acquire the lock and perform its task. This acquisition and release of the lock added overhead to the total execution time. Therefore, we can safely say that threading is not an ideal solution for tasks that requires CPU to work on something. "
   ]
  },
  {
   "cell_type": "code",
   "execution_count": 7,
   "metadata": {},
   "outputs": [
    {
     "name": "stdout",
     "output_type": "stream",
     "text": [
      "30754 * Process-8 * MainThread         ---> Start counting...30753 * Process-7 * MainThread         ---> Start counting...\n",
      "\n"
     ]
    },
    {
     "name": "stdout",
     "output_type": "stream",
     "text": [
      "30754 * Process-8 * MainThread         ---> Finished counting...30753 * Process-7 * MainThread         ---> Finished counting...\n",
      "\n",
      "Time taken in seconds - 34.50573372840881\n"
     ]
    }
   ],
   "source": [
    "# from multiprocess import Process, Queue\n",
    "# from utils import cpu_bound\n",
    "# https://stackoverflow.com/questions/41385708/multiprocessing-example-giving-attributeerror\n",
    "# https://pypi.org/project/multiprocess/\n",
    "# pip install multiprocess\n",
    "\n",
    "# Part 5: So, does splitting the tasks as separate processes work? \n",
    "start = time.time()\n",
    "\n",
    "p1 = Process(target = cpu_bound, args =(COUNT, ))\n",
    "p2 = Process(target = cpu_bound, args =(COUNT, ))\n",
    "p1.start()\n",
    "p2.start()\n",
    "p1.join()\n",
    "p2.join()\n",
    "\n",
    "end = time.time()\n",
    "print('Time taken in seconds -', end - start)"
   ]
  },
  {
   "cell_type": "markdown",
   "metadata": {},
   "source": [
    "Let’s cut to the chase. Multiprocessing is the answer. Here the MainProcess spins up two subprocesses, having different PIDs, each of which does the job of decreasing the number to zero. Each process runs in parallel, making use of separate CPU core and its own instance of the Python interpreter, therefore the whole program execution took only 12 seconds. Note that the output might be printed in unordered fashion as the processes are independent of each other. Each process executes the function in its own default thread, MainThread. Open your Task Manager during the execution of your program. You can see 3 instances of the Python interpreter, one each for MainProcess, Process-1, and Process-2. You can also see that during the program execution, the Power Usage of the two subprocesses is “Very High”, as the task they are performing is actually taking a toll on their own CPU cores, as shown by the spikes in the CPU Performance graph. "
   ]
  },
  {
   "cell_type": "code",
   "execution_count": 6,
   "metadata": {},
   "outputs": [
    {
     "name": "stdout",
     "output_type": "stream",
     "text": [
      "30612 * Process-5 * MainThread         ---> Start sleeping...\n",
      "30613 * Process-6 * MainThread         ---> Start sleeping...\n",
      "30612 * Process-5 * MainThread         ---> Finished sleeping...\n",
      "30613 * Process-6 * MainThread         ---> Finished sleeping...\n",
      "Time taken in seconds - 10.099394083023071\n"
     ]
    }
   ],
   "source": [
    "#Part 6: Hey, lets use multiprocessing for our IO-bound tasks\n",
    "start = time.time()\n",
    "\n",
    "p1 = Process(target = io_bound, args =(SLEEP, ))\n",
    "p2 = Process(target = io_bound, args =(SLEEP, ))\n",
    "p1.start()\n",
    "p2.start()\n",
    "p1.join()\n",
    "p2.join()\n",
    "\n",
    "end = time.time()\n",
    "print('Time taken in seconds -', end - start)"
   ]
  },
  {
   "cell_type": "markdown",
   "metadata": {},
   "source": [
    "## Bottomline: Multithreading for IO-bound tasks. Multiprocessing for CPU-bound tasks.\n",
    "\n",
    "\n",
    "- Multithreading implemets concurrency vs MultiProcessing implements parallelism.\n",
    "- Python does not support multithreading in the case of parallel computing.\tPython supports multiprocessing in the case of parallel computing.\n",
    "- In multithreading, multiple threads at the same time are generated by a single process. In multiprocessing, multiple threads at the same time run across multiple cores.\n",
    "- "
   ]
  },
  {
   "cell_type": "markdown",
   "metadata": {},
   "source": []
  },
  {
   "cell_type": "markdown",
   "metadata": {},
   "source": [
    "# GIL\n",
    "The Global Interpreter Lock (GIL) in Python serves a pivotal role by permitting only one thread at a time to access the Python interpreter. This mechanism ensures secure memory management in multithreaded environments, averting potential complexities arising from concurrent access to memory locations by multiple threads. Despite its merits in simplifying memory management, the GIL introduces limitations, particularly in scenarios involving CPU-bound tasks in a multithreaded setting.\n",
    "\n",
    "The GIL's influence on performance is pronounced when executing CPU-bound programs, which are tasks like matrix multiplication and mathematical computations that heavily engage the CPU without relying on input/output operations. In such cases, the GIL impedes the realization of true parallelism, limiting the potential performance gains that could be achieved in a multicore CPU environment. However, the GIL proves to be less inhibitory in I/O-bound scenarios, where programs spend substantial time awaiting input/output operations.\n",
    "\n",
    "On the positive side, the GIL offers several advantages. It simplifies memory management by allowing only one thread to execute Python code at a time. This reduction in complexity is particularly beneficial for developers who are spared the intricacies of synchronization mechanisms and the risk of data corruption associated with simultaneous access to shared memory locations.\n",
    "\n",
    "Furthermore, the GIL is optimized for single-threaded applications, resulting in improved performance for programs that operate with just one thread. The reduction in overhead related to synchronization mechanisms and context switching enhances the efficiency of single-threaded Python applications.\n",
    "\n",
    "Moreover, the GIL facilitates compatibility with critical C extensions, such as NumPy and Pandas, which are implemented in C or C++ and rely on the GIL for thread safety. This compatibility is essential for ensuring thread-safe memory management and preventing undesirable sequences of events in such libraries.\n",
    "\n",
    "In essence, while the GIL introduces limitations in certain contexts, it offers tangible benefits such as simplified memory management, increased thread safety, and improved performance for single-threaded applications, underscoring its significance in the Python programming landscape."
   ]
  },
  {
   "cell_type": "markdown",
   "metadata": {},
   "source": [
    "# type hinting"
   ]
  },
  {
   "cell_type": "code",
   "execution_count": 1,
   "metadata": {},
   "outputs": [
    {
     "name": "stdout",
     "output_type": "stream",
     "text": [
      "Hello, John\n"
     ]
    }
   ],
   "source": [
    "def greeting(name: str) -> str:\n",
    "    return f\"Hello, {name}\"\n",
    "\n",
    "\n",
    "print(greeting(\"John\"))  # \"Hello, John\"\n"
   ]
  },
  {
   "cell_type": "code",
   "execution_count": 4,
   "metadata": {},
   "outputs": [],
   "source": [
    "from typing import Dict, List, Set, Tuple\n",
    "\n",
    "l: List[int] = [1, 2, 3, 4, 5]\n",
    "t: Tuple[int, str, float] = (1, \"hello\", 3.14)\n",
    "s: Set[int] = {1, 2, 3, 4, 5}\n",
    "d: Dict[str, int] = {\"a\": 1, \"b\": 2, \"c\": 3}\n"
   ]
  },
  {
   "cell_type": "code",
   "execution_count": 3,
   "metadata": {},
   "outputs": [],
   "source": [
    "from typing import List, Union\n",
    "\n",
    "l: List[Union[int, float]] = [1, 2.5, 3.14, 5]\n"
   ]
  },
  {
   "cell_type": "code",
   "execution_count": 5,
   "metadata": {},
   "outputs": [
    {
     "name": "stdout",
     "output_type": "stream",
     "text": [
      "Hello, Anonymous\n"
     ]
    }
   ],
   "source": [
    "from typing import Union\n",
    "\n",
    "\n",
    "def greeting(name: Union[str, None] = None) -> str:\n",
    "    return f\"Hello, {name if name else 'Anonymous'}\"\n",
    "\n",
    "\n",
    "print(greeting())  # \"Hello, Anonymous\"\n"
   ]
  },
  {
   "cell_type": "code",
   "execution_count": 6,
   "metadata": {},
   "outputs": [
    {
     "name": "stdout",
     "output_type": "stream",
     "text": [
      "Hello, Anonymous\n"
     ]
    }
   ],
   "source": [
    "from typing import Optional\n",
    "\n",
    "\n",
    "def greeting(name: Optional[str] = None) -> str:\n",
    "    return f\"Hello, {name if name else 'Anonymous'}\"\n",
    "\n",
    "\n",
    "print(greeting())  # \"Hello, Anonymous\"\n"
   ]
  },
  {
   "cell_type": "code",
   "execution_count": 7,
   "metadata": {},
   "outputs": [],
   "source": [
    "from typing import Tuple\n",
    "\n",
    "IntStringFloatTuple = Tuple[int, str, float]\n",
    "\n",
    "t: IntStringFloatTuple = (1, \"hello\", 3.14)\n"
   ]
  },
  {
   "cell_type": "code",
   "execution_count": 8,
   "metadata": {},
   "outputs": [],
   "source": [
    "from typing import List\n",
    "\n",
    "\n",
    "class Post:\n",
    "    def __init__(self, title: str) -> None:\n",
    "        self.title = title\n",
    "\n",
    "    def __str__(self) -> str:\n",
    "        return self.title\n",
    "\n",
    "\n",
    "posts: List[Post] = [Post(\"Post A\"), Post(\"Post B\")]\n"
   ]
  },
  {
   "cell_type": "code",
   "execution_count": 10,
   "metadata": {},
   "outputs": [
    {
     "data": {
      "text/plain": [
       "[2, 4]"
      ]
     },
     "execution_count": 10,
     "metadata": {},
     "output_type": "execute_result"
    }
   ],
   "source": [
    "from typing import Callable, List\n",
    "\n",
    "ConditionFunction = Callable[[int], bool]\n",
    "\n",
    "\n",
    "def filter_list(l: List[int], condition: ConditionFunction) -> List[int]:\n",
    "    return [i for i in l if condition(i)]\n",
    "\n",
    "\n",
    "def is_even(i: int) -> bool:\n",
    "    return i % 2 == 0\n",
    "\n",
    "\n",
    "filter_list([1, 2, 3, 4, 5], is_even)\n"
   ]
  },
  {
   "cell_type": "code",
   "execution_count": 11,
   "metadata": {},
   "outputs": [
    {
     "data": {
      "text/plain": [
       "[1, 2, 3]"
      ]
     },
     "execution_count": 11,
     "metadata": {},
     "output_type": "execute_result"
    }
   ],
   "source": [
    "from typing import Any\n",
    "\n",
    "\n",
    "def f(x: Any) -> Any:\n",
    "    return x\n",
    "\n",
    "\n",
    "f(\"a\")\n",
    "f(10)\n",
    "f([1, 2, 3])\n"
   ]
  },
  {
   "cell_type": "code",
   "execution_count": 12,
   "metadata": {},
   "outputs": [],
   "source": [
    "from typing import Any, cast\n",
    "\n",
    "\n",
    "def f(x: Any) -> Any:\n",
    "    return x\n",
    "\n",
    "\n",
    "a = f(\"a\")  # inferred type is \"Any\"\n",
    "a = cast(str, f(\"a\"))  # forced type to be \"str\"\n"
   ]
  },
  {
   "cell_type": "code",
   "execution_count": null,
   "metadata": {},
   "outputs": [],
   "source": []
  }
 ],
 "metadata": {
  "kernelspec": {
   "display_name": "Python 3",
   "language": "python",
   "name": "python3"
  },
  "language_info": {
   "codemirror_mode": {
    "name": "ipython",
    "version": 3
   },
   "file_extension": ".py",
   "mimetype": "text/x-python",
   "name": "python",
   "nbconvert_exporter": "python",
   "pygments_lexer": "ipython3",
   "version": "3.10.4"
  },
  "orig_nbformat": 4
 },
 "nbformat": 4,
 "nbformat_minor": 2
}
